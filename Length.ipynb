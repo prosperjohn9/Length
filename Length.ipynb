{
  "nbformat": 4,
  "nbformat_minor": 0,
  "metadata": {
    "colab": {
      "provenance": [],
      "authorship_tag": "ABX9TyONdJsC+SBOcFopSdW7qbR+",
      "include_colab_link": true
    },
    "kernelspec": {
      "name": "python3",
      "display_name": "Python 3"
    },
    "language_info": {
      "name": "python"
    }
  },
  "cells": [
    {
      "cell_type": "markdown",
      "metadata": {
        "id": "view-in-github",
        "colab_type": "text"
      },
      "source": [
        "<a href=\"https://colab.research.google.com/github/prosperjohn9/Length/blob/main/Length.ipynb\" target=\"_parent\"><img src=\"https://colab.research.google.com/assets/colab-badge.svg\" alt=\"Open In Colab\"/></a>"
      ]
    },
    {
      "cell_type": "markdown",
      "source": [
        "Write a python program that lets the user to enter three numbers and then display a message indicating whether or not the given numbers can be lengths of the three sides of a triangle\n",
        "\n",
        "Hint: the length of each side is less than the sum of lengths of the other two sides"
      ],
      "metadata": {
        "id": "aPAUKcy54S_z"
      }
    },
    {
      "cell_type": "code",
      "execution_count": null,
      "metadata": {
        "colab": {
          "base_uri": "https://localhost:8080/"
        },
        "id": "GvurTyJh4PfK",
        "outputId": "7e5f27d3-de2a-4258-fcaf-9b813b0795c8"
      },
      "outputs": [
        {
          "output_type": "stream",
          "name": "stdout",
          "text": [
            "Please enter the first number: 2\n",
            "Please enter the second number: 5\n",
            "Please enter the third number: 10\n",
            "Given numbers cannot be lengths of the three sides of a triangle\n"
          ]
        }
      ],
      "source": [
        "n1 = int(input(\"Please enter the first number: \"))\n",
        "n2 = int(input(\"Please enter the second number: \"))\n",
        "n3 = int(input(\"Please enter the third number: \"))\n",
        "if n1 < n2 + n3 and n2 < n1 + n3 and n3 < n2 + n1:\n",
        "  print(\"Given numbers can be lengths of the three sides of a triangle\")\n",
        "else:\n",
        "  print(\"Given numbers cannot be lengths of the three sides of a triangle\")\n"
      ]
    }
  ]
}